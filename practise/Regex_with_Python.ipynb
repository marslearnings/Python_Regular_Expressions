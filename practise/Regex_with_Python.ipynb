{
 "cells": [
  {
   "cell_type": "markdown",
   "id": "8aba9518-4537-4d3b-9be0-b845f6ac66a9",
   "metadata": {},
   "source": [
    "### Regular Expression with Python"
   ]
  },
  {
   "cell_type": "code",
   "execution_count": 1,
   "id": "614b95fa-1ae8-424e-a6fe-7cec9f5f472b",
   "metadata": {},
   "outputs": [],
   "source": [
    "import re"
   ]
  },
  {
   "cell_type": "code",
   "execution_count": 5,
   "id": "59310b7c-e7c8-45bd-ae83-f49a5c0ad8a1",
   "metadata": {},
   "outputs": [],
   "source": [
    "pattern = re.compile(r'fo?',)"
   ]
  },
  {
   "cell_type": "code",
   "execution_count": 7,
   "id": "3faea376-d7a8-4505-a25f-553a4191038b",
   "metadata": {},
   "outputs": [
    {
     "data": {
      "text/plain": [
       "<re.Match object; span=(0, 2), match='fo'>"
      ]
     },
     "execution_count": 7,
     "metadata": {},
     "output_type": "execute_result"
    }
   ],
   "source": [
    "pattern.match(\"foo bar\",)"
   ]
  },
  {
   "cell_type": "code",
   "execution_count": 9,
   "id": "d73a03b1-29c8-4ff8-a73f-eaa02fa25d3d",
   "metadata": {},
   "outputs": [],
   "source": [
    "pattern.match(\"bar foo\")"
   ]
  },
  {
   "cell_type": "code",
   "execution_count": null,
   "id": "2bb1360b-6146-4c84-b74d-f76521b9d20c",
   "metadata": {},
   "outputs": [],
   "source": []
  },
  {
   "cell_type": "code",
   "execution_count": 12,
   "id": "02cad2de-2b7f-4509-9790-7136a012a40c",
   "metadata": {},
   "outputs": [
    {
     "data": {
      "text/plain": [
       "<re.Match object; span=(0, 1), match='\\\\'>"
      ]
     },
     "execution_count": 12,
     "metadata": {},
     "output_type": "execute_result"
    }
   ],
   "source": [
    "pattern = re.compile('\\\\\\\\')\n",
    "pattern.match(\"\\\\author\")"
   ]
  },
  {
   "cell_type": "code",
   "execution_count": 14,
   "id": "42e06a42-f716-4cff-9685-8583f834ce66",
   "metadata": {},
   "outputs": [],
   "source": [
    "text = \"the quick brown fox jumped over the lazy dog\"\n",
    "\n",
    "re.match(r\"brown fox\", text,)"
   ]
  },
  {
   "cell_type": "code",
   "execution_count": null,
   "id": "19be3921-03bb-4d43-9111-dd760a676bbe",
   "metadata": {},
   "outputs": [],
   "source": []
  },
  {
   "cell_type": "markdown",
   "id": "cf1af45d-95f6-4db1-9475-0b9b70f38030",
   "metadata": {},
   "source": [
    "# Search"
   ]
  },
  {
   "cell_type": "code",
   "execution_count": 25,
   "id": "25ffae4f-3fb8-4cd8-b0d7-04918a6a124e",
   "metadata": {},
   "outputs": [],
   "source": [
    "pattern = re.compile(r\"\\bjump\\w*\")"
   ]
  },
  {
   "cell_type": "code",
   "execution_count": 27,
   "id": "d2c481c5-ef5c-405a-add7-2d1f30713ac6",
   "metadata": {},
   "outputs": [
    {
     "data": {
      "text/plain": [
       "<re.Match object; span=(20, 26), match='jumped'>"
      ]
     },
     "execution_count": 27,
     "metadata": {},
     "output_type": "execute_result"
    }
   ],
   "source": [
    "pattern.search(text)"
   ]
  },
  {
   "cell_type": "code",
   "execution_count": 41,
   "id": "0fdbf558-2b73-46ea-b9bd-c1e0106a496d",
   "metadata": {},
   "outputs": [
    {
     "data": {
      "text/plain": [
       "<re.Match object; span=(0, 3), match='the'>"
      ]
     },
     "execution_count": 41,
     "metadata": {},
     "output_type": "execute_result"
    }
   ],
   "source": [
    "pattern = re.compile(r\"the\")\n",
    "pattern.search(text)"
   ]
  },
  {
   "cell_type": "markdown",
   "id": "deb5478e-014a-4746-9e69-30e49b1fd3d1",
   "metadata": {},
   "source": [
    "### findall"
   ]
  },
  {
   "cell_type": "code",
   "execution_count": 43,
   "id": "051ecbca-2ed1-4be7-9ee1-8981ea2b9d7c",
   "metadata": {},
   "outputs": [],
   "source": [
    "pattern = re.compile(r\"the fox\")"
   ]
  },
  {
   "cell_type": "code",
   "execution_count": 45,
   "id": "0e818bec-d6d6-4f0c-bad5-a4673ed4bebf",
   "metadata": {},
   "outputs": [
    {
     "data": {
      "text/plain": [
       "[]"
      ]
     },
     "execution_count": 45,
     "metadata": {},
     "output_type": "execute_result"
    }
   ],
   "source": [
    "pattern.findall(text)"
   ]
  },
  {
   "cell_type": "code",
   "execution_count": 53,
   "id": "65931c53-08b2-4c76-ac97-db6b16462d11",
   "metadata": {},
   "outputs": [
    {
     "data": {
      "text/plain": [
       "['the quick', 'brown fox', 'jumped over', 'the lazy']"
      ]
     },
     "execution_count": 53,
     "metadata": {},
     "output_type": "execute_result"
    }
   ],
   "source": [
    "pattern = re.compile(r\"\\w+ \\w+\")\n",
    "pattern.findall(text)"
   ]
  },
  {
   "cell_type": "code",
   "execution_count": null,
   "id": "d39e4a32-a68a-403d-a137-74cdc33c5d8e",
   "metadata": {},
   "outputs": [],
   "source": []
  },
  {
   "cell_type": "markdown",
   "id": "3682ca40-ffe8-4fcd-8bfd-92187745ee23",
   "metadata": {},
   "source": [
    "### Subtitute"
   ]
  },
  {
   "cell_type": "code",
   "execution_count": 56,
   "id": "c163fbd4-9857-42f6-b271-3758dae223e3",
   "metadata": {},
   "outputs": [
    {
     "data": {
      "text/plain": [
       "'order- order- order-'"
      ]
     },
     "execution_count": 56,
     "metadata": {},
     "output_type": "execute_result"
    }
   ],
   "source": [
    "text = 'order1 order2 order3'\n",
    "\n",
    "pattern = re.compile(r\"[0-9]\")\n",
    "pattern.sub('-',text)"
   ]
  },
  {
   "cell_type": "code",
   "execution_count": null,
   "id": "d4309a11-9643-417b-8a29-5047674002a5",
   "metadata": {},
   "outputs": [],
   "source": []
  },
  {
   "cell_type": "code",
   "execution_count": 1,
   "id": "ee3175b9-2565-4919-9752-53e3301abc9d",
   "metadata": {},
   "outputs": [],
   "source": [
    "import re"
   ]
  },
  {
   "cell_type": "code",
   "execution_count": 3,
   "id": "cb30cd2c-1270-4d33-a593-fb4dc5281b8f",
   "metadata": {},
   "outputs": [],
   "source": [
    "pattern = re.compile(r'\\d+')"
   ]
  },
  {
   "cell_type": "code",
   "execution_count": 11,
   "id": "efd69f9c-e019-4138-beeb-514995adae50",
   "metadata": {},
   "outputs": [
    {
     "name": "stdout",
     "output_type": "stream",
     "text": [
      "<re.Match object; span=(7, 9), match='42'>\n"
     ]
    }
   ],
   "source": [
    "results = pattern.search('i have 42 apples and 100 bananas',)\n",
    "print(results)"
   ]
  },
  {
   "cell_type": "code",
   "execution_count": 15,
   "id": "8c6ad481-468f-4d12-92e1-e60a1deaa1cf",
   "metadata": {},
   "outputs": [
    {
     "data": {
      "text/plain": [
       "()"
      ]
     },
     "execution_count": 15,
     "metadata": {},
     "output_type": "execute_result"
    }
   ],
   "source": [
    "results.groups()"
   ]
  },
  {
   "cell_type": "code",
   "execution_count": null,
   "id": "e25404d9-12d2-40be-9e37-bc9d1a5766b9",
   "metadata": {},
   "outputs": [],
   "source": []
  },
  {
   "cell_type": "code",
   "execution_count": null,
   "id": "d45c2b4f-2fcb-422e-b416-f6ac0939b4a6",
   "metadata": {},
   "outputs": [],
   "source": []
  },
  {
   "cell_type": "code",
   "execution_count": null,
   "id": "286ecbbe-585d-4c0c-b463-c8fe88141f47",
   "metadata": {},
   "outputs": [],
   "source": []
  },
  {
   "cell_type": "code",
   "execution_count": null,
   "id": "7e3c354d-5cfd-4191-a70c-51b89e70f3f7",
   "metadata": {},
   "outputs": [],
   "source": []
  },
  {
   "cell_type": "code",
   "execution_count": null,
   "id": "dde1a5b8-fc89-4b07-b151-6c1218573daf",
   "metadata": {},
   "outputs": [],
   "source": []
  },
  {
   "cell_type": "code",
   "execution_count": null,
   "id": "7bbce24c-06c2-4f0c-a36c-bc0c5b8a676d",
   "metadata": {},
   "outputs": [],
   "source": []
  },
  {
   "cell_type": "code",
   "execution_count": null,
   "id": "6ef200bc-5aff-4c75-b013-113633bf7edd",
   "metadata": {},
   "outputs": [],
   "source": []
  },
  {
   "cell_type": "code",
   "execution_count": null,
   "id": "de4776de-e81f-4115-b90c-63c63eb985ee",
   "metadata": {},
   "outputs": [],
   "source": []
  },
  {
   "cell_type": "code",
   "execution_count": null,
   "id": "c3d0609b-0c0d-4254-9ab0-65ea7ce156b2",
   "metadata": {},
   "outputs": [],
   "source": []
  },
  {
   "cell_type": "code",
   "execution_count": null,
   "id": "9b48f56a-dd71-4b4f-8e90-c94aa6610a89",
   "metadata": {},
   "outputs": [],
   "source": []
  },
  {
   "cell_type": "code",
   "execution_count": null,
   "id": "273d2448-7b17-47d8-a78c-0b2270967a02",
   "metadata": {},
   "outputs": [],
   "source": []
  },
  {
   "cell_type": "code",
   "execution_count": null,
   "id": "0dd02199-4dd7-4a54-ab80-66f68a43533e",
   "metadata": {},
   "outputs": [],
   "source": []
  },
  {
   "cell_type": "code",
   "execution_count": null,
   "id": "cfe11770-9642-43ab-8f31-94671b4d901b",
   "metadata": {},
   "outputs": [],
   "source": []
  },
  {
   "cell_type": "code",
   "execution_count": null,
   "id": "37982763-fac8-49cd-9fa5-4790bbdd583b",
   "metadata": {},
   "outputs": [],
   "source": []
  },
  {
   "cell_type": "code",
   "execution_count": null,
   "id": "b970705e-0aa0-4f86-8d33-323fd6d5fcb9",
   "metadata": {},
   "outputs": [],
   "source": []
  },
  {
   "cell_type": "code",
   "execution_count": null,
   "id": "37ed6942-6800-4527-be52-abda372869f9",
   "metadata": {},
   "outputs": [],
   "source": []
  },
  {
   "cell_type": "code",
   "execution_count": null,
   "id": "40368452-1496-47ac-8a6e-8aeaa85aba68",
   "metadata": {},
   "outputs": [],
   "source": []
  },
  {
   "cell_type": "code",
   "execution_count": null,
   "id": "a8ca6a61-e94e-4990-8e6b-982859b615d2",
   "metadata": {},
   "outputs": [],
   "source": []
  },
  {
   "cell_type": "code",
   "execution_count": null,
   "id": "52a65afc-cc3e-4273-96a3-26a5ba3506ae",
   "metadata": {},
   "outputs": [],
   "source": []
  }
 ],
 "metadata": {
  "kernelspec": {
   "display_name": "Python 3 (ipykernel)",
   "language": "python",
   "name": "python3"
  },
  "language_info": {
   "codemirror_mode": {
    "name": "ipython",
    "version": 3
   },
   "file_extension": ".py",
   "mimetype": "text/x-python",
   "name": "python",
   "nbconvert_exporter": "python",
   "pygments_lexer": "ipython3",
   "version": "3.12.7"
  }
 },
 "nbformat": 4,
 "nbformat_minor": 5
}
