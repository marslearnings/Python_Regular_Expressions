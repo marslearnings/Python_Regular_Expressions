{
 "cells": [
  {
   "cell_type": "markdown",
   "id": "63780008-8607-45df-a828-c3ba8d9d0e31",
   "metadata": {},
   "source": [
    "# Regular Expression\n",
    "- Meta Characters & Special Sequence Characters: [Notes](https://marslearnings.github.io/marslearnings/blog/2025/04/13/introduction-to-regular-expressions/)\n",
    "- Youtube Video: [Video](https://youtu.be/qQnFIzwXwp0?si=QyXblqL-t50yRbD4)"
   ]
  },
  {
   "cell_type": "code",
   "execution_count": 1,
   "id": "618b076a-76c5-455c-bd1e-8b79f48ec87f",
   "metadata": {},
   "outputs": [],
   "source": [
    "import re\n",
    "# re: regular expression"
   ]
  },
  {
   "cell_type": "markdown",
   "id": "aa85c5d4-960d-4651-bcb3-f50f2bfe68bd",
   "metadata": {},
   "source": [
    "### Match\n",
    "- `re.match()`\n",
    "identify the pattern only at the **beginning** of the string"
   ]
  },
  {
   "cell_type": "code",
   "execution_count": 2,
   "id": "f6585025-c34a-488c-b6a2-936020fdb0ad",
   "metadata": {},
   "outputs": [
    {
     "name": "stdout",
     "output_type": "stream",
     "text": [
      "<re.Match object; span=(0, 5), match='Hello'>\n"
     ]
    }
   ],
   "source": [
    "string = \"Hello world\"\n",
    "results = re.match(\"Hello\", string) \n",
    "# this will identify the string only at the start of the string\n",
    "\n",
    "print(results)"
   ]
  },
  {
   "cell_type": "code",
   "execution_count": 3,
   "id": "be5cc832-7a4f-412d-baf6-2fd2cecb6ea8",
   "metadata": {},
   "outputs": [
    {
     "name": "stdout",
     "output_type": "stream",
     "text": [
      "None\n"
     ]
    }
   ],
   "source": [
    "string = \"Hello world\"\n",
    "results = re.match(\"world\", string) \n",
    "# this will identify the string only at the start of the string\n",
    "\n",
    "print(results)"
   ]
  },
  {
   "cell_type": "code",
   "execution_count": 4,
   "id": "cd00db69-fe15-4f47-98b8-6d7d31b33d87",
   "metadata": {},
   "outputs": [
    {
     "name": "stdout",
     "output_type": "stream",
     "text": [
      "<re.Match object; span=(0, 5), match='Hello'>\n"
     ]
    }
   ],
   "source": [
    "string = \"Hello world\"\n",
    "pattern = r'\\w+' \n",
    "#  r stands for raw string\n",
    "results = re.match(pattern, string) \n",
    "# this will identify the string only at the start of the string\n",
    "\n",
    "print(results)"
   ]
  },
  {
   "cell_type": "code",
   "execution_count": 5,
   "id": "03b70277-e0ed-4700-8746-d7ebbd0d12e4",
   "metadata": {},
   "outputs": [
    {
     "name": "stdout",
     "output_type": "stream",
     "text": [
      "Hello\n"
     ]
    }
   ],
   "source": [
    "print(results.group())"
   ]
  },
  {
   "cell_type": "code",
   "execution_count": 6,
   "id": "2817f84f-aa47-4fe0-96a0-c425fe9b9259",
   "metadata": {},
   "outputs": [
    {
     "data": {
      "text/plain": [
       "(0, 5)"
      ]
     },
     "execution_count": 6,
     "metadata": {},
     "output_type": "execute_result"
    }
   ],
   "source": [
    "results.span()"
   ]
  },
  {
   "cell_type": "code",
   "execution_count": 7,
   "id": "d0181bce-f67d-4a25-a84f-bd5ade9b9201",
   "metadata": {},
   "outputs": [
    {
     "data": {
      "text/plain": [
       "(0, 5)"
      ]
     },
     "execution_count": 7,
     "metadata": {},
     "output_type": "execute_result"
    }
   ],
   "source": [
    "results.start(), results.end()"
   ]
  },
  {
   "cell_type": "markdown",
   "id": "0a417389-315d-458e-a0ea-900abafcae8f",
   "metadata": {},
   "source": [
    "- Practise Example"
   ]
  },
  {
   "cell_type": "code",
   "execution_count": 8,
   "id": "aaf031ca-94be-4f84-b756-f217b8fdd1d1",
   "metadata": {},
   "outputs": [],
   "source": [
    "text_list = ['Python is fun',\n",
    "             'I love Python',\n",
    "             'Python is general purpose language',\n",
    "             'python 3.12 is my current python version'\n",
    "            ]\n",
    "\n",
    "# Extract the elements where start of the string is \"Python\" | P is uppercase\n",
    "# case-sensitive method"
   ]
  },
  {
   "cell_type": "code",
   "execution_count": 9,
   "id": "4a7c1fb3-afbc-4ea8-b6fd-e363c05370fb",
   "metadata": {},
   "outputs": [
    {
     "name": "stdout",
     "output_type": "stream",
     "text": [
      "['Python is fun', 'Python is general purpose language']\n"
     ]
    }
   ],
   "source": [
    "pattern = 'Python'\n",
    "filter_text_list = []\n",
    "for text in text_list: \n",
    "    result = re.match(pattern, text)\n",
    "    if result:\n",
    "        filter_text_list.append(text)\n",
    "\n",
    "print(filter_text_list)"
   ]
  },
  {
   "cell_type": "code",
   "execution_count": 10,
   "id": "385d3eca-c5ce-4505-a535-6638c69b8982",
   "metadata": {},
   "outputs": [
    {
     "name": "stdout",
     "output_type": "stream",
     "text": [
      "['Python is fun', 'Python is general purpose language', 'python 3.12 is my current python version']\n"
     ]
    }
   ],
   "source": [
    "# Extract the elements where start of the string is \"Python\" | P is uppercase or lowercase\n",
    "# case-insensitive method\n",
    "pattern = 'Python'\n",
    "filter_text_list = []\n",
    "for text in text_list: \n",
    "    result = re.match(pattern, text, flags=re.IGNORECASE)\n",
    "    if result:\n",
    "        filter_text_list.append(text)\n",
    "\n",
    "print(filter_text_list)"
   ]
  },
  {
   "attachments": {},
   "cell_type": "markdown",
   "id": "27cf4da7-cca1-4fc4-aa62-0a9ed06effa7",
   "metadata": {},
   "source": [
    "### Search\n",
    "- `re.search()`\n",
    "  \n",
    "Searches for first occurrence of pattern anywhere in string\r\n"
   ]
  },
  {
   "cell_type": "code",
   "execution_count": 11,
   "id": "ee0234ed-8574-4448-a2c6-38c05405285e",
   "metadata": {},
   "outputs": [
    {
     "name": "stdout",
     "output_type": "stream",
     "text": [
      "<re.Match object; span=(6, 11), match='world'>\n"
     ]
    }
   ],
   "source": [
    "text = 'Hello world'\n",
    "pattern = 'world'\n",
    "\n",
    "result = re.search(pattern, text)\n",
    "\n",
    "print(result)"
   ]
  },
  {
   "cell_type": "code",
   "execution_count": 12,
   "id": "702df4dd-9e5a-4b14-a2bb-f9b31935fc40",
   "metadata": {},
   "outputs": [
    {
     "name": "stdout",
     "output_type": "stream",
     "text": [
      "<re.Match object; span=(9, 11), match='42'>\n"
     ]
    }
   ],
   "source": [
    "text = 'I having 42 apples and 31 bannas'\n",
    "# extract the digits in the text or string\n",
    "result = re.search(r'\\d+', text)\n",
    "# search will identify only first occurences\n",
    "\n",
    "print(result)"
   ]
  },
  {
   "cell_type": "code",
   "execution_count": 13,
   "id": "d53bb584-65b9-4c0a-887a-a14ccfab429a",
   "metadata": {},
   "outputs": [
    {
     "name": "stdout",
     "output_type": "stream",
     "text": [
      " apples and 31 bannas\n",
      "<re.Match object; span=(12, 14), match='31'>\n"
     ]
    }
   ],
   "source": [
    "text_new = text[result.end():]\n",
    "print(text_new)\n",
    "result_new = re.search(r'\\d+', text_new)\n",
    "\n",
    "print(result_new)"
   ]
  },
  {
   "cell_type": "markdown",
   "id": "22f0f51c-034e-4653-a747-c280cded253a",
   "metadata": {},
   "source": [
    "### Find all\n",
    "- `re.findall()`"
   ]
  },
  {
   "cell_type": "code",
   "execution_count": 14,
   "id": "1956cbe7-99e7-45a4-af42-0312d89dd8df",
   "metadata": {},
   "outputs": [
    {
     "name": "stdout",
     "output_type": "stream",
     "text": [
      "['42', '31']\n"
     ]
    }
   ],
   "source": [
    "text = 'I having 42 apples and 31 bannas'\n",
    "pattern = r'\\d+'\n",
    "\n",
    "results = re.findall(pattern, text)\n",
    "\n",
    "print(results)"
   ]
  },
  {
   "cell_type": "markdown",
   "id": "f65a5d81-1819-4fb5-b16e-a257c3975b39",
   "metadata": {},
   "source": [
    "### Practise Examples"
   ]
  },
  {
   "cell_type": "code",
   "execution_count": 18,
   "id": "d19e8ab4-37ca-4085-956d-c2d214d3edef",
   "metadata": {},
   "outputs": [
    {
     "name": "stdout",
     "output_type": "stream",
     "text": [
      "The three letter words are = ['The', 'fox', 'the', 'dog']\n",
      "The four or more letter words are = ['quick', 'brown', 'jumps', 'over', 'lazy']\n"
     ]
    }
   ],
   "source": [
    "# Example 1: Extract words of different lengths\n",
    "text = \"The quick brown fox jumps over the lazy dog\"\n",
    "\n",
    "# Words with exactly 3 letters\n",
    "pattern = r\"\\b\\w{3}\\b\"\n",
    "three_letter_word = re.findall(pattern, text)\n",
    "print(\"The three letter words are =\", three_letter_word)\n",
    "\n",
    "# Words with 4 or more letters\n",
    "pattern = r\"\\b\\w{4,}\\b\"\n",
    "four_or_more_words = re.findall(pattern, text)\n",
    "print(\"The four or more letter words are =\", four_or_more_words)\n"
   ]
  },
  {
   "cell_type": "code",
   "execution_count": 19,
   "id": "9e753d46-f089-4288-ac23-a3c191f6852c",
   "metadata": {},
   "outputs": [
    {
     "name": "stdout",
     "output_type": "stream",
     "text": [
      "captilized words ['Python', 'Guido', 'Rossum', 'Java', 'James', 'Gosling', 'Sun', 'Microsystems']\n"
     ]
    }
   ],
   "source": [
    "# Example 2: Extract all capitalized words\n",
    "text = \"Python was created by Guido van Rossum. Java was created by James Gosling at Sun Microsystems.\"\n",
    "\n",
    "pattern = r\"\\b[A-Z]\\w+\"\n",
    "\n",
    "capitalized_words = re.findall(pattern, text)\n",
    "\n",
    "print(\"captilized words\", capitalized_words)"
   ]
  },
  {
   "cell_type": "markdown",
   "id": "d9c73360-de43-46ee-afb7-3404ddd231ab",
   "metadata": {},
   "source": [
    "### re.compile()\n",
    "`re.compile(pattern, flags=0)`\n",
    "\n",
    "- Converts regex pattern into a reusable regex object\n",
    "- More efficient when using the same pattern multiple times"
   ]
  },
  {
   "cell_type": "code",
   "execution_count": 20,
   "id": "d54d3dea-c0cb-418a-8574-08d41e55e513",
   "metadata": {},
   "outputs": [
    {
     "name": "stdout",
     "output_type": "stream",
     "text": [
      "1991\n",
      "<re.Match object; span=(34, 38), match='1991'>\n"
     ]
    }
   ],
   "source": [
    "text = \"Python was first developed in Feb 1991\"\n",
    "# extract the digit or year out it.\n",
    "pattern = re.compile(r\"\\d{4}\") # compile will convert the pattern in to bytecode\n",
    "\n",
    "results = pattern.search(text)\n",
    "print(results.group())\n",
    "print(results)"
   ]
  },
  {
   "cell_type": "code",
   "execution_count": null,
   "id": "1d7bbf17-58a6-45da-94fe-3da09f46e8e0",
   "metadata": {},
   "outputs": [],
   "source": []
  },
  {
   "cell_type": "markdown",
   "id": "89ea5fb2-957c-403b-a1f6-6d7a37d8a03b",
   "metadata": {},
   "source": [
    "#### END\n",
    "---"
   ]
  }
 ],
 "metadata": {
  "kernelspec": {
   "display_name": "Python 3 (ipykernel)",
   "language": "python",
   "name": "python3"
  },
  "language_info": {
   "codemirror_mode": {
    "name": "ipython",
    "version": 3
   },
   "file_extension": ".py",
   "mimetype": "text/x-python",
   "name": "python",
   "nbconvert_exporter": "python",
   "pygments_lexer": "ipython3",
   "version": "3.12.8"
  }
 },
 "nbformat": 4,
 "nbformat_minor": 5
}
