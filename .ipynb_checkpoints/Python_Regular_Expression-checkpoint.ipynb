{
 "cells": [
  {
   "cell_type": "code",
   "execution_count": 29,
   "id": "fac3a58f-fa29-4298-aba6-3c3d651b23f0",
   "metadata": {},
   "outputs": [],
   "source": [
    "import re"
   ]
  },
  {
   "cell_type": "markdown",
   "id": "fa3b9428-aeb5-4c86-bd91-350c35d86273",
   "metadata": {},
   "source": [
    "### **re.compile**"
   ]
  },
  {
   "cell_type": "code",
   "execution_count": 35,
   "id": "fc17b182-8d94-45e4-8943-52dca780e8d6",
   "metadata": {},
   "outputs": [
    {
     "name": "stdout",
     "output_type": "stream",
     "text": [
      "<re.Match object; span=(7, 9), match='42'>\n",
      "Matched result = 42\n"
     ]
    }
   ],
   "source": [
    "pattern = re.compile(r\"\\d+\")\n",
    "result = pattern.search('I have 42 apples')\n",
    "\n",
    "print(result)\n",
    "print(\"Matched result =\", result.group())"
   ]
  },
  {
   "cell_type": "markdown",
   "id": "516e1ccd-3fc4-4352-a2a8-a095742a1eb3",
   "metadata": {},
   "source": [
    "### **re.match()**"
   ]
  },
  {
   "cell_type": "code",
   "execution_count": 46,
   "id": "b7d31b60-9d41-44bf-a97a-0d2ce37c2fd6",
   "metadata": {},
   "outputs": [
    {
     "name": "stdout",
     "output_type": "stream",
     "text": [
      "Hello\n",
      "<re.Match object; span=(0, 5), match='Hello'>\n"
     ]
    }
   ],
   "source": [
    "text = \"Hello, world!\"\n",
    "\n",
    "result = re.match(r\"Hello\", text) \n",
    "# re.match will only match pattern at the beginning \n",
    "# of the string \n",
    "\n",
    "print(result.group())\n",
    "print(result)"
   ]
  },
  {
   "cell_type": "code",
   "execution_count": 77,
   "id": "b6a336d9-157e-406a-a3d8-58c467659126",
   "metadata": {},
   "outputs": [
    {
     "name": "stdout",
     "output_type": "stream",
     "text": [
      "<re.Match object; span=(0, 5), match='Hello'>\n"
     ]
    }
   ],
   "source": [
    "text = \" Hello, world\"\n",
    "\n",
    "result = re.match(r\"Hello\", text.strip())\n",
    "print(result)"
   ]
  },
  {
   "cell_type": "code",
   "execution_count": 95,
   "id": "d2ab914f-0d54-41c7-abc5-7eaf5a314228",
   "metadata": {},
   "outputs": [
    {
     "name": "stdout",
     "output_type": "stream",
     "text": [
      "None\n"
     ]
    }
   ],
   "source": [
    "text = \" Hello, world\"\n",
    "\n",
    "result = re.match(r\"world\", text.strip())\n",
    "print(result)"
   ]
  },
  {
   "cell_type": "code",
   "execution_count": null,
   "id": "c783c32d-5d5c-4c34-8c8f-0374f55295dc",
   "metadata": {},
   "outputs": [],
   "source": []
  },
  {
   "cell_type": "code",
   "execution_count": 54,
   "id": "f394299f-0000-4a46-8d88-e9400c279e0e",
   "metadata": {},
   "outputs": [
    {
     "name": "stdout",
     "output_type": "stream",
     "text": [
      "['Python is fun', 'I love Python', 'python is case-sensitive', 'Python 3.9']\n"
     ]
    }
   ],
   "source": [
    "text_list = ['Python is fun',\n",
    "    'I love Python',\n",
    "    'python is case-sensitive',\n",
    "    'Python 3.9'\n",
    "]\n",
    "print(text_list)"
   ]
  },
  {
   "cell_type": "code",
   "execution_count": 68,
   "id": "358edc5a-5aa4-4423-8aa2-04955d8a49b2",
   "metadata": {},
   "outputs": [
    {
     "name": "stdout",
     "output_type": "stream",
     "text": [
      "2.11 μs ± 301 ns per loop (mean ± std. dev. of 7 runs, 100,000 loops each)\n"
     ]
    }
   ],
   "source": [
    "%%timeit\n",
    "\n",
    "pattern = 'Python' # case sensitive only\n",
    "# extract the element where pattern is present \n",
    "# method -1:\n",
    "filter_text_list = []\n",
    "pattern = re.compile(r'Python')\n",
    "for text in text_list:\n",
    "    result = pattern.match(text)\n",
    "    if result:\n",
    "        filter_text_list.append(text)\n",
    "\n",
    "#print(\"Filtered List: \", filter_text_list)"
   ]
  },
  {
   "cell_type": "code",
   "execution_count": 72,
   "id": "9cd80032-5150-4137-8c13-f8995bf13feb",
   "metadata": {},
   "outputs": [
    {
     "name": "stdout",
     "output_type": "stream",
     "text": [
      "3.19 μs ± 239 ns per loop (mean ± std. dev. of 7 runs, 100,000 loops each)\n"
     ]
    }
   ],
   "source": [
    "%%timeit\n",
    "\n",
    "filter_text_list_2 = []\n",
    "for text in text_list:\n",
    "    #print(text)\n",
    "    result = re.match('Python', text)\n",
    "    if result:\n",
    "        filter_text_list_2.append(text)\n",
    "\n",
    "#print(\"Filtered List: \", filter_text_list_2)"
   ]
  },
  {
   "cell_type": "markdown",
   "id": "2707ee22-132b-4b35-9df6-706800d21b82",
   "metadata": {},
   "source": [
    "### re.search"
   ]
  },
  {
   "cell_type": "code",
   "execution_count": 107,
   "id": "be57842c-ef34-4747-9bf8-c5bbce6568fc",
   "metadata": {},
   "outputs": [
    {
     "name": "stdout",
     "output_type": "stream",
     "text": [
      "<re.Match object; span=(2, 7), match='Hello'>\n",
      "<re.Match object; span=(2, 7), match='Hello'>\n"
     ]
    }
   ],
   "source": [
    "text = \"  Hello world\"\n",
    "\n",
    "result = re.search(r\"Hello\", text)\n",
    "\n",
    "print(result)\n",
    "print(result)"
   ]
  },
  {
   "cell_type": "markdown",
   "id": "5991c0e7-3dec-48e4-908f-af8e535f236a",
   "metadata": {},
   "source": [
    "### Example"
   ]
  },
  {
   "cell_type": "code",
   "execution_count": 126,
   "id": "8a49e693-c246-4e62-bd2d-22cf28a54f60",
   "metadata": {},
   "outputs": [
    {
     "name": "stdout",
     "output_type": "stream",
     "text": [
      "text = Call me at (555) 123-4567 tomorrow----> (555) 123-4567\n",
      "\n",
      "text = My number is 555-123-4567----> 555-123-4567\n",
      "\n",
      "\n"
     ]
    }
   ],
   "source": [
    "texts = [\n",
    "\"Call me at (555) 123-4567 tomorrow\",\n",
    "\"My number is 555-123-4567\",\n",
    "\"No phone number here\"\n",
    "]\n",
    "\n",
    "pattern = r'(\\(\\d{3}\\)|\\d{3})(\\s|-)\\d{3}-\\d{4}'\n",
    "\n",
    "for text in texts:\n",
    "    \n",
    "    result = re.search(pattern, text)\n",
    "    if result:\n",
    "        print(f'text = {text}',end='----> ')\n",
    "        print(result.group())\n",
    "    print()"
   ]
  },
  {
   "cell_type": "code",
   "execution_count": 132,
   "id": "d140c506-fa4f-4071-bd9d-c5700f5e69fa",
   "metadata": {},
   "outputs": [
    {
     "name": "stdout",
     "output_type": "stream",
     "text": [
      "<re.Match object; span=(7, 14), match='#Python'>\n",
      "#Python\n"
     ]
    }
   ],
   "source": [
    "# Practice 2: Search for hashtags\n",
    "hashtag = r'#\\w+'\n",
    "tweet = \"I love #Python and #RegularExpressions are powerful! #coding\"\n",
    "\n",
    "pattern = r'#\\w+'\n",
    "\n",
    "result = re.search(pattern, tweet)\n",
    "print(result)\n",
    "print(result.group())"
   ]
  },
  {
   "cell_type": "code",
   "execution_count": 144,
   "id": "4caffc88-c6c3-48d1-b3e3-14cabb3ef9c2",
   "metadata": {},
   "outputs": [
    {
     "name": "stdout",
     "output_type": "stream",
     "text": [
      "Span = (7, 14)\n",
      "Start = 7\n",
      "End = 14\n",
      " and #RegularExpressions are powerful! #coding\n"
     ]
    }
   ],
   "source": [
    "print('Span =', result.span())\n",
    "print('Start =', result.start())\n",
    "print('End =', result.end())\n",
    "\n",
    "next_tweet = tweet[result.end():]\n",
    "print(next_tweet)"
   ]
  },
  {
   "cell_type": "code",
   "execution_count": 150,
   "id": "2bab92b0-2d4e-4d5c-9156-f24549181ca4",
   "metadata": {},
   "outputs": [
    {
     "name": "stdout",
     "output_type": "stream",
     "text": [
      "new tweet =  and #RegularExpressions are powerful! #coding\n",
      "new tweet =  are powerful! #coding\n",
      "new tweet = \n",
      "['#Python', '#RegularExpressions', '#coding']\n"
     ]
    }
   ],
   "source": [
    "# let put all togetherabs\n",
    "hashtags = []\n",
    "tweet = \"I love #Python and #RegularExpressions are powerful! #coding\"\n",
    "\n",
    "pattern = r'#\\w+'\n",
    "\n",
    "while True:\n",
    "    match = re.search(pattern, tweet)\n",
    "    if match:\n",
    "        hashtag = match.group()\n",
    "        hashtags.append(hashtag)\n",
    "        # slice \n",
    "        tweet = tweet[match.end():]\n",
    "        print(\"new tweet =\", tweet)\n",
    "    else:\n",
    "        break\n",
    "\n",
    "print(hashtags)"
   ]
  },
  {
   "cell_type": "markdown",
   "id": "5739ef17-04ca-4132-9bc2-ba9533203323",
   "metadata": {},
   "source": [
    "### re.findall()"
   ]
  },
  {
   "cell_type": "code",
   "execution_count": null,
   "id": "5913e0c4-eb43-49ce-8087-9f46d1b0019f",
   "metadata": {},
   "outputs": [],
   "source": [
    "text = \"I have 42 apples and 31 oranges\"\n",
    "# find all occurrenece of digits eg: 42, 31\n",
    "\n"
   ]
  },
  {
   "cell_type": "code",
   "execution_count": null,
   "id": "5787ac2e-ccaf-448c-ab94-832bfdcba267",
   "metadata": {},
   "outputs": [],
   "source": []
  },
  {
   "cell_type": "code",
   "execution_count": null,
   "id": "45a456f7-3326-45e3-8876-b109718bbe15",
   "metadata": {},
   "outputs": [],
   "source": []
  },
  {
   "cell_type": "code",
   "execution_count": null,
   "id": "03128f63-663e-4dbb-a61d-dd436010fabc",
   "metadata": {},
   "outputs": [],
   "source": []
  },
  {
   "cell_type": "code",
   "execution_count": null,
   "id": "4f326ec5-ddfb-4cc6-a570-83187e3b333d",
   "metadata": {},
   "outputs": [],
   "source": []
  },
  {
   "cell_type": "code",
   "execution_count": null,
   "id": "c1ae82af-6b4d-440b-9813-fdfbdc52474b",
   "metadata": {},
   "outputs": [],
   "source": []
  }
 ],
 "metadata": {
  "kernelspec": {
   "display_name": "Python 3 (ipykernel)",
   "language": "python",
   "name": "python3"
  },
  "language_info": {
   "codemirror_mode": {
    "name": "ipython",
    "version": 3
   },
   "file_extension": ".py",
   "mimetype": "text/x-python",
   "name": "python",
   "nbconvert_exporter": "python",
   "pygments_lexer": "ipython3",
   "version": "3.12.7"
  }
 },
 "nbformat": 4,
 "nbformat_minor": 5
}
